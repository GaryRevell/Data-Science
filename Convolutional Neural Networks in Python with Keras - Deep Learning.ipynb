{
 "cells": [
  {
   "cell_type": "code",
   "execution_count": 22,
   "metadata": {},
   "outputs": [],
   "source": [
    "import numpy as np\n",
    "from keras.utils import to_categorical\n",
    "import matplotlib.pyplot as plt\n",
    "from sklearn.model_selection import train_test_split\n",
    "%matplotlib inline\n"
   ]
  },
  {
   "cell_type": "code",
   "execution_count": 23,
   "metadata": {
    "collapsed": true
   },
   "outputs": [],
   "source": [
    "from keras.datasets import fashion_mnist\n",
    "(train_X,train_Y), (test_X,test_Y) = fashion_mnist.load_data()\n"
   ]
  },
  {
   "cell_type": "code",
   "execution_count": 24,
   "metadata": {},
   "outputs": [
    {
     "name": "stdout",
     "output_type": "stream",
     "text": [
      "Training data shape :  (60000, 28, 28) (60000,)\n",
      "Testing data shape :  (10000, 28, 28) (10000,)\n",
      "Total number of outputs :  10\n",
      "Output classes :  [0 1 2 3 4 5 6 7 8 9]\n"
     ]
    }
   ],
   "source": [
    "print('Training data shape : ', train_X.shape, train_Y.shape)\n",
    "\n",
    "print('Testing data shape : ', test_X.shape, test_Y.shape)\n",
    "\n",
    "# Find the unique numbers from the train labels - there are 10 [0..9]\n",
    "classes = np.unique(train_Y)\n",
    "nClasses = len(classes)\n",
    "print('Total number of outputs : ', nClasses)\n",
    "print('Output classes : ', classes)\n",
    "\n"
   ]
  },
  {
   "cell_type": "code",
   "execution_count": 25,
   "metadata": {},
   "outputs": [
    {
     "data": {
      "text/plain": [
       "Text(0.5,1,'Ground Truth : 9')"
      ]
     },
     "execution_count": 25,
     "metadata": {},
     "output_type": "execute_result"
    },
    {
     "data": {
      "image/png": "[encoded data removed]",
      "text/plain": [
       "<matplotlib.figure.Figure at 0x1e602b72518>"
      ]
     },
     "metadata": {},
     "output_type": "display_data"
    }
   ],
   "source": [
    "plt.figure(figsize=[5,5])\n",
    "\n",
    "# Display the first image in training data\n",
    "plt.subplot(121)\n",
    "plt.imshow(train_X[0,:,:], cmap='gray')\n",
    "plt.title(\"Ground Truth : {}\".format(train_Y[0]))\n",
    "\n",
    "# Display the first image in testing data\n",
    "plt.subplot(122)\n",
    "plt.imshow(test_X[0,:,:], cmap='gray')\n",
    "plt.title(\"Ground Truth : {}\".format(test_Y[0]))\n"
   ]
  },
  {
   "cell_type": "code",
   "execution_count": 26,
   "metadata": {},
   "outputs": [],
   "source": [
    "\"\"\"\n",
    "As you could see in the above plot, the images are grayscale images have pixel values that range from 0 to 255. \n",
    "Also, these images have a dimension of 28 x 28. As a result, you'll need to preprocess the data before you feed it into the model. \n",
    "\n",
    "As a first step, convert each 28 x 28 image of the train and test set into a matrix of size 28 x 28 x 1 which is fed into \n",
    "the network.\n",
    "\"\"\"\n",
    "train_X = train_X.reshape(-1, 28,28, 1)\n",
    "test_X = test_X.reshape(-1, 28,28, 1)\n",
    "train_X.shape, test_X.shape\n",
    "\"\"\"\n",
    "The data right now is in an int8 format, so before you feed it into the network you need to convert its type to float32, \n",
    "and you also have to rescale the pixel values in range 0 - 1 inclusive. So let's do that!\n",
    "\"\"\"\n",
    "train_X = train_X.astype('float32')\n",
    "test_X = test_X.astype('float32')\n",
    "train_X = train_X / 255.\n",
    "test_X = test_X / 255.\n"
   ]
  },
  {
   "cell_type": "code",
   "execution_count": 27,
   "metadata": {},
   "outputs": [
    {
     "name": "stdout",
     "output_type": "stream",
     "text": [
      "Original label: 9\n",
      "After conversion to one-hot: [0. 0. 0. 0. 0. 0. 0. 0. 0. 1.]\n"
     ]
    }
   ],
   "source": [
    "\"\"\"\n",
    "Now you need to convert the class labels into a one-hot encoding vector.\n",
    "In one-hot encoding, you convert the categorical data into a vector of numbers. The reason why you convert the categorical \n",
    "data in one hot encoding is that machine learning algorithms cannot work with categorical data directly. You generate \n",
    "one boolean column for each category or class. Only one of these columns could take on the value 1 for each sample. \n",
    "Hence, the term one-hot encoding.\n",
    "\n",
    "For your problem statement, the one hot encoding will be a row vector, and for each image, it will have a dimension of 1 x 10. \n",
    "The important thing to note here is that the vector consists of all zeros except for the class that it represents, \n",
    "and for that, it is 1. For example, the ankle boot image that you plotted above has a label of 9, so for all the ankle \n",
    "boot images, the one hot encoding vector would be [0 0 0 0 0 0 0 0 1 0].\n",
    "\n",
    "So let's convert the training and testing labels into one-hot encoding vectors:\n",
    "\"\"\"\n",
    "# Change the labels from categorical to one-hot encoding\n",
    "train_Y_one_hot = to_categorical(train_Y)\n",
    "test_Y_one_hot = to_categorical(test_Y)\n",
    "\n",
    "# Display the change for category label using one-hot encoding\n",
    "print('Original label:', train_Y[0])\n",
    "print('After conversion to one-hot:', train_Y_one_hot[0])\n"
   ]
  },
  {
   "cell_type": "code",
   "execution_count": 28,
   "metadata": {},
   "outputs": [
    {
     "data": {
      "text/plain": [
       "((48000, 28, 28, 1), (12000, 28, 28, 1), (48000, 10), (12000, 10))"
      ]
     },
     "execution_count": 28,
     "metadata": {},
     "output_type": "execute_result"
    }
   ],
   "source": [
    "\"\"\"\n",
    "This last step is a crucial one. In machine learning or any data specific task, you should partition the data correctly. \n",
    "For the model to generalize well, you split the training data into two parts, one designed for training and another \n",
    "one for validation. In this case, you will train the model on 80\\% of the training data and validate it on 20\\% of \n",
    "the remaining training data. This will also help to reduce overfitting since you will be validating the model on the \n",
    "data it would not have seen in training phase, which will help in boosting the test performance.\n",
    "\"\"\"\n",
    "\n",
    "train_X,valid_X,train_label,valid_label = train_test_split(train_X, train_Y_one_hot, test_size=0.2, random_state=13)\n",
    "train_X.shape,valid_X.shape,train_label.shape,valid_label.shape"
   ]
  },
  {
   "cell_type": "code",
   "execution_count": 30,
   "metadata": {},
   "outputs": [],
   "source": [
    "\"\"\"\n",
    "The images are of size 28 x 28. You convert the image matrix to an array, rescale it between 0 and 1, reshape it so that \n",
    "it's of size 28 x 28 x 1, and feed this as an input to the network.\n",
    "\n",
    "You'll use three convolutional layers:\n",
    "\n",
    "The first layer will have 32-3 x 3 filters,\n",
    "The second layer will have 64-3 x 3 filters and\n",
    "The third layer will have 128-3 x 3 filters.\n",
    "\"\"\"\n",
    "#import modules to train the model\n",
    "import keras\n",
    "from keras.models import Sequential,Input,Model\n",
    "from keras.layers import Dense, Dropout, Flatten\n",
    "from keras.layers import Conv2D, MaxPooling2D\n",
    "from keras.layers.normalization import BatchNormalization\n",
    "from keras.layers.advanced_activations import LeakyReLU\n",
    "\n",
    "\"\"\"\n",
    "You will use a batch size of 64 using a higher batch size of 128 or 256 is also preferable it all depends on the memory. \n",
    "It contributes massively to determining the learning parameters and affects the prediction accuracy. You will train \n",
    "the network for 20 epochs.\n",
    "\"\"\"\n",
    "\n",
    "batch_size = 64\n",
    "epochs = 20\n",
    "num_classes = 10\n"
   ]
  },
  {
   "cell_type": "code",
   "execution_count": 31,
   "metadata": {
    "collapsed": true
   },
   "outputs": [],
   "source": [
    "fashion_model = Sequential()\n",
    "fashion_model.add(Conv2D(32, kernel_size=(3, 3),activation='linear',input_shape=(28,28,1),padding='same'))\n",
    "fashion_model.add(LeakyReLU(alpha=0.1))\n",
    "fashion_model.add(MaxPooling2D((2, 2),padding='same'))\n",
    "fashion_model.add(Conv2D(64, (3, 3), activation='linear',padding='same'))\n",
    "fashion_model.add(LeakyReLU(alpha=0.1))\n",
    "fashion_model.add(MaxPooling2D(pool_size=(2, 2),padding='same'))\n",
    "fashion_model.add(Conv2D(128, (3, 3), activation='linear',padding='same'))\n",
    "fashion_model.add(LeakyReLU(alpha=0.1))                  \n",
    "fashion_model.add(MaxPooling2D(pool_size=(2, 2),padding='same'))\n",
    "fashion_model.add(Flatten())\n",
    "fashion_model.add(Dense(128, activation='linear'))\n",
    "fashion_model.add(LeakyReLU(alpha=0.1))                  \n",
    "fashion_model.add(Dense(num_classes, activation='softmax'))\n"
   ]
  },
  {
   "cell_type": "code",
   "execution_count": 33,
   "metadata": {},
   "outputs": [
    {
     "name": "stdout",
     "output_type": "stream",
     "text": [
      "_________________________________________________________________\n",
      "Layer (type)                 Output Shape              Param #   \n",
      "=================================================================\n",
      "conv2d_1 (Conv2D)            (None, 28, 28, 32)        320       \n",
      "_________________________________________________________________\n",
      "leaky_re_lu_1 (LeakyReLU)    (None, 28, 28, 32)        0         \n",
      "_________________________________________________________________\n",
      "max_pooling2d_1 (MaxPooling2 (None, 14, 14, 32)        0         \n",
      "_________________________________________________________________\n",
      "conv2d_2 (Conv2D)            (None, 14, 14, 64)        18496     \n",
      "_________________________________________________________________\n",
      "leaky_re_lu_2 (LeakyReLU)    (None, 14, 14, 64)        0         \n",
      "_________________________________________________________________\n",
      "max_pooling2d_2 (MaxPooling2 (None, 7, 7, 64)          0         \n",
      "_________________________________________________________________\n",
      "conv2d_3 (Conv2D)            (None, 7, 7, 128)         73856     \n",
      "_________________________________________________________________\n",
      "leaky_re_lu_3 (LeakyReLU)    (None, 7, 7, 128)         0         \n",
      "_________________________________________________________________\n",
      "max_pooling2d_3 (MaxPooling2 (None, 4, 4, 128)         0         \n",
      "_________________________________________________________________\n",
      "flatten_1 (Flatten)          (None, 2048)              0         \n",
      "_________________________________________________________________\n",
      "dense_1 (Dense)              (None, 128)               262272    \n",
      "_________________________________________________________________\n",
      "leaky_re_lu_4 (LeakyReLU)    (None, 128)               0         \n",
      "_________________________________________________________________\n",
      "dense_2 (Dense)              (None, 10)                1290      \n",
      "=================================================================\n",
      "Total params: 356,234\n",
      "Trainable params: 356,234\n",
      "Non-trainable params: 0\n",
      "_________________________________________________________________\n"
     ]
    }
   ],
   "source": [
    "\"\"\"\n",
    "After the model is created, you compile it using the Adam optimizer, one of the most popular optimization algorithms. \n",
    "You can read more about this optimizer here. Additionally, you specify the loss type which is categorical cross entropy \n",
    "which is used for multi-class classification, you can also use binary cross-entropy as the loss function. \n",
    "Lastly, you specify the metrics as accuracy which you want to analyze while the model is training.\n",
    "\"\"\"\n",
    "fashion_model.compile(loss=keras.losses.categorical_crossentropy, optimizer=keras.optimizers.Adam(),metrics=['accuracy'])\n",
    "\n",
    "\"\"\"\n",
    "Let's visualize the layers that you created in the above step by using the summary function. This will show some \n",
    "parameters (weights and biases) in each layer and also the total parameters in your model.\n",
    "\"\"\"\n",
    "fashion_model.summary()"
   ]
  },
  {
   "cell_type": "code",
   "execution_count": 34,
   "metadata": {},
   "outputs": [
    {
     "name": "stdout",
     "output_type": "stream",
     "text": [
      "Train on 48000 samples, validate on 12000 samples\n",
      "Epoch 1/20\n",
      "48000/48000 [==============================] - 211s 4ms/step - loss: 0.4585 - acc: 0.8330 - val_loss: 0.3137 - val_acc: 0.8861\n",
      "Epoch 2/20\n",
      "48000/48000 [==============================] - 227s 5ms/step - loss: 0.2792 - acc: 0.8977 - val_loss: 0.2956 - val_acc: 0.8924\n",
      "Epoch 3/20\n",
      "48000/48000 [==============================] - 208s 4ms/step - loss: 0.2343 - acc: 0.9135 - val_loss: 0.2577 - val_acc: 0.9059\n",
      "Epoch 4/20\n",
      "48000/48000 [==============================] - 211s 4ms/step - loss: 0.2045 - acc: 0.9242 - val_loss: 0.2386 - val_acc: 0.9170\n",
      "Epoch 5/20\n",
      "48000/48000 [==============================] - 196s 4ms/step - loss: 0.1794 - acc: 0.9337 - val_loss: 0.2194 - val_acc: 0.9225\n",
      "Epoch 6/20\n",
      "48000/48000 [==============================] - 194s 4ms/step - loss: 0.1578 - acc: 0.9411 - val_loss: 0.2237 - val_acc: 0.9213\n",
      "Epoch 7/20\n",
      "48000/48000 [==============================] - 180s 4ms/step - loss: 0.1358 - acc: 0.9493 - val_loss: 0.2406 - val_acc: 0.9178\n",
      "Epoch 8/20\n",
      "48000/48000 [==============================] - 182s 4ms/step - loss: 0.1183 - acc: 0.9564 - val_loss: 0.2737 - val_acc: 0.9143\n",
      "Epoch 9/20\n",
      "48000/48000 [==============================] - 218s 5ms/step - loss: 0.0996 - acc: 0.9620 - val_loss: 0.2506 - val_acc: 0.9200\n",
      "Epoch 10/20\n",
      "48000/48000 [==============================] - 221s 5ms/step - loss: 0.0872 - acc: 0.9668 - val_loss: 0.2678 - val_acc: 0.9217\n",
      "Epoch 11/20\n",
      "48000/48000 [==============================] - 191s 4ms/step - loss: 0.0705 - acc: 0.9736 - val_loss: 0.3146 - val_acc: 0.9177\n",
      "Epoch 12/20\n",
      "48000/48000 [==============================] - 181s 4ms/step - loss: 0.0630 - acc: 0.9761 - val_loss: 0.3046 - val_acc: 0.9180\n",
      "Epoch 13/20\n",
      "48000/48000 [==============================] - 189s 4ms/step - loss: 0.0531 - acc: 0.9802 - val_loss: 0.3446 - val_acc: 0.9215\n",
      "Epoch 14/20\n",
      "48000/48000 [==============================] - 217s 5ms/step - loss: 0.0493 - acc: 0.9815 - val_loss: 0.3711 - val_acc: 0.9173\n",
      "Epoch 15/20\n",
      "48000/48000 [==============================] - 213s 4ms/step - loss: 0.0400 - acc: 0.9848 - val_loss: 0.3745 - val_acc: 0.9193\n",
      "Epoch 16/20\n",
      "48000/48000 [==============================] - 191s 4ms/step - loss: 0.0396 - acc: 0.9848 - val_loss: 0.4027 - val_acc: 0.9220\n",
      "Epoch 17/20\n",
      "48000/48000 [==============================] - 191s 4ms/step - loss: 0.0359 - acc: 0.9864 - val_loss: 0.4042 - val_acc: 0.9176\n",
      "Epoch 18/20\n",
      "48000/48000 [==============================] - 217s 5ms/step - loss: 0.0341 - acc: 0.9878 - val_loss: 0.4207 - val_acc: 0.9201\n",
      "Epoch 19/20\n",
      "48000/48000 [==============================] - 222s 5ms/step - loss: 0.0320 - acc: 0.9881 - val_loss: 0.4474 - val_acc: 0.9182\n",
      "Epoch 20/20\n",
      "48000/48000 [==============================] - 194s 4ms/step - loss: 0.0318 - acc: 0.9887 - val_loss: 0.4547 - val_acc: 0.9198\n"
     ]
    }
   ],
   "source": [
    "\"\"\"\n",
    "It's finally time to train the model with Keras' fit() function! The model trains for 20 epochs. \n",
    "The fit() function will return a history object; By storying the result of this function in fashion_train, \n",
    "you can use it later to plot the accuracy and loss function plots between training and validation which \n",
    "will help you to analyze your model's performance visually.\n",
    "\"\"\"\n",
    "fashion_train = fashion_model.fit(train_X, train_label, batch_size=batch_size,epochs=epochs,verbose=1,validation_data=(valid_X, valid_label))\n"
   ]
  },
  {
   "cell_type": "code",
   "execution_count": 35,
   "metadata": {},
   "outputs": [
    {
     "name": "stdout",
     "output_type": "stream",
     "text": [
      "Test loss: 0.4860444114053622\n",
      "Test accuracy: 0.9136\n"
     ]
    }
   ],
   "source": [
    "test_eval = fashion_model.evaluate(test_X, test_Y_one_hot, verbose=0)\n",
    "print('Test loss:', test_eval[0])\n",
    "print('Test accuracy:', test_eval[1])\n"
   ]
  },
  {
   "cell_type": "code",
   "execution_count": 36,
   "metadata": {},
   "outputs": [
    {
     "data": {
      "image/png": "[encoded data removed]",
      "text/plain": [
       "<matplotlib.figure.Figure at 0x1e601426a20>"
      ]
     },
     "metadata": {},
     "output_type": "display_data"
    },
    {
     "data": {
      "image/png": "[encoded data removed]",
      "text/plain": [
       "<matplotlib.figure.Figure at 0x1e60170f4a8>"
      ]
     },
     "metadata": {},
     "output_type": "display_data"
    }
   ],
   "source": [
    "\"\"\"\n",
    "The test accuracy looks impressive. It turns out that your classifier does better than the benchmark that was reported here, \n",
    "which is an SVM classifier with mean accuracy of 0.897. Also, the model does well compared to some of the deep learning \n",
    "models mentioned on the GitHub profile of the creators of fashion-MNIST dataset.\n",
    "However, you saw that the model looked like it was overfitting. Are these results really all that good?\n",
    "Let's put your model evaluation into perspective and plot the accuracy and loss plots between training and validation data:\n",
    "\"\"\"\n",
    "accuracy = fashion_train.history['acc']\n",
    "val_accuracy = fashion_train.history['val_acc']\n",
    "loss = fashion_train.history['loss']\n",
    "val_loss = fashion_train.history['val_loss']\n",
    "epochs = range(len(accuracy))\n",
    "plt.plot(epochs, accuracy, 'bo', label='Training accuracy')\n",
    "plt.plot(epochs, val_accuracy, 'b', label='Validation accuracy')\n",
    "plt.title('Training and validation accuracy')\n",
    "plt.legend()\n",
    "plt.figure()\n",
    "plt.plot(epochs, loss, 'bo', label='Training loss')\n",
    "plt.plot(epochs, val_loss, 'b', label='Validation loss')\n",
    "plt.title('Training and validation loss')\n",
    "plt.legend()\n",
    "plt.show()\n"
   ]
  },
  {
   "cell_type": "code",
   "execution_count": 39,
   "metadata": {},
   "outputs": [
    {
     "data": {
      "text/plain": [
       "(list, 20, 0.8330416666666667)"
      ]
     },
     "execution_count": 39,
     "metadata": {},
     "output_type": "execute_result"
    }
   ],
   "source": [
    "type(accuracy),len(accuracy),accuracy[0]"
   ]
  },
  {
   "cell_type": "code",
   "execution_count": 40,
   "metadata": {
    "collapsed": true
   },
   "outputs": [],
   "source": [
    "\"\"\"\n",
    "You can add a dropout layer to overcome the problem of overfitting to some extent. Dropout randomly turns off a fraction of \n",
    "neurons during the training process, reducing the dependency on the training set by some amount. How many fractions of neurons \n",
    "you want to turn off is decided by a hyperparameter, which can be tuned accordingly. This way, turning off some neurons will \n",
    "not allow the network to memorize the training data since not all the neurons will be active at the same time and the \n",
    "inactive neurons will not be able to learn anything.\n",
    "\n",
    "So let's create, compile and train the network again but this time with dropout. And run it for 20 epochs with a batch \n",
    "size of 64.\n",
    "\"\"\"\n",
    "batch_size = 64\n",
    "epochs = 20\n",
    "num_classes = 10\n"
   ]
  },
  {
   "cell_type": "code",
   "execution_count": 41,
   "metadata": {},
   "outputs": [
    {
     "name": "stdout",
     "output_type": "stream",
     "text": [
      "_________________________________________________________________\n",
      "Layer (type)                 Output Shape              Param #   \n",
      "=================================================================\n",
      "conv2d_4 (Conv2D)            (None, 28, 28, 32)        320       \n",
      "_________________________________________________________________\n",
      "leaky_re_lu_5 (LeakyReLU)    (None, 28, 28, 32)        0         \n",
      "_________________________________________________________________\n",
      "max_pooling2d_4 (MaxPooling2 (None, 14, 14, 32)        0         \n",
      "_________________________________________________________________\n",
      "dropout_1 (Dropout)          (None, 14, 14, 32)        0         \n",
      "_________________________________________________________________\n",
      "conv2d_5 (Conv2D)            (None, 14, 14, 64)        18496     \n",
      "_________________________________________________________________\n",
      "leaky_re_lu_6 (LeakyReLU)    (None, 14, 14, 64)        0         \n",
      "_________________________________________________________________\n",
      "max_pooling2d_5 (MaxPooling2 (None, 7, 7, 64)          0         \n",
      "_________________________________________________________________\n",
      "dropout_2 (Dropout)          (None, 7, 7, 64)          0         \n",
      "_________________________________________________________________\n",
      "conv2d_6 (Conv2D)            (None, 7, 7, 128)         73856     \n",
      "_________________________________________________________________\n",
      "leaky_re_lu_7 (LeakyReLU)    (None, 7, 7, 128)         0         \n",
      "_________________________________________________________________\n",
      "max_pooling2d_6 (MaxPooling2 (None, 4, 4, 128)         0         \n",
      "_________________________________________________________________\n",
      "dropout_3 (Dropout)          (None, 4, 4, 128)         0         \n",
      "_________________________________________________________________\n",
      "flatten_2 (Flatten)          (None, 2048)              0         \n",
      "_________________________________________________________________\n",
      "dense_3 (Dense)              (None, 128)               262272    \n",
      "_________________________________________________________________\n",
      "leaky_re_lu_8 (LeakyReLU)    (None, 128)               0         \n",
      "_________________________________________________________________\n",
      "dropout_4 (Dropout)          (None, 128)               0         \n",
      "_________________________________________________________________\n",
      "dense_4 (Dense)              (None, 10)                1290      \n",
      "=================================================================\n",
      "Total params: 356,234\n",
      "Trainable params: 356,234\n",
      "Non-trainable params: 0\n",
      "_________________________________________________________________\n"
     ]
    }
   ],
   "source": [
    "fashion_model = Sequential()\n",
    "fashion_model.add(Conv2D(32, kernel_size=(3, 3),activation='linear',padding='same',input_shape=(28,28,1)))\n",
    "fashion_model.add(LeakyReLU(alpha=0.1))\n",
    "fashion_model.add(MaxPooling2D((2, 2),padding='same'))\n",
    "fashion_model.add(Dropout(0.25))\n",
    "fashion_model.add(Conv2D(64, (3, 3), activation='linear',padding='same'))\n",
    "fashion_model.add(LeakyReLU(alpha=0.1))\n",
    "fashion_model.add(MaxPooling2D(pool_size=(2, 2),padding='same'))\n",
    "fashion_model.add(Dropout(0.25))\n",
    "fashion_model.add(Conv2D(128, (3, 3), activation='linear',padding='same'))\n",
    "fashion_model.add(LeakyReLU(alpha=0.1))                  \n",
    "fashion_model.add(MaxPooling2D(pool_size=(2, 2),padding='same'))\n",
    "fashion_model.add(Dropout(0.4))\n",
    "fashion_model.add(Flatten())\n",
    "fashion_model.add(Dense(128, activation='linear'))\n",
    "fashion_model.add(LeakyReLU(alpha=0.1))           \n",
    "fashion_model.add(Dropout(0.3))\n",
    "fashion_model.add(Dense(num_classes, activation='softmax'))\n",
    "fashion_model.summary()\n"
   ]
  },
  {
   "cell_type": "code",
   "execution_count": 43,
   "metadata": {},
   "outputs": [
    {
     "name": "stdout",
     "output_type": "stream",
     "text": [
      "Train on 48000 samples, validate on 12000 samples\n",
      "Epoch 1/20\n",
      "48000/48000 [==============================] - 208s 4ms/step - loss: 0.6090 - acc: 0.7730 - val_loss: 0.3766 - val_acc: 0.8592\n",
      "Epoch 2/20\n",
      "48000/48000 [==============================] - 201s 4ms/step - loss: 0.3779 - acc: 0.8589 - val_loss: 0.3124 - val_acc: 0.8822\n",
      "Epoch 3/20\n",
      "48000/48000 [==============================] - 200s 4ms/step - loss: 0.3281 - acc: 0.8786 - val_loss: 0.2781 - val_acc: 0.8985\n",
      "Epoch 4/20\n",
      "48000/48000 [==============================] - 200s 4ms/step - loss: 0.2971 - acc: 0.8892 - val_loss: 0.2581 - val_acc: 0.9048\n",
      "Epoch 5/20\n",
      "48000/48000 [==============================] - 205s 4ms/step - loss: 0.2789 - acc: 0.8956 - val_loss: 0.2561 - val_acc: 0.9088\n",
      "Epoch 6/20\n",
      "48000/48000 [==============================] - 236s 5ms/step - loss: 0.2673 - acc: 0.9010 - val_loss: 0.2409 - val_acc: 0.9112\n",
      "Epoch 7/20\n",
      "48000/48000 [==============================] - 232s 5ms/step - loss: 0.2562 - acc: 0.9051 - val_loss: 0.2336 - val_acc: 0.9160\n",
      "Epoch 8/20\n",
      "48000/48000 [==============================] - 217s 5ms/step - loss: 0.2483 - acc: 0.9071 - val_loss: 0.2420 - val_acc: 0.9097\n",
      "Epoch 9/20\n",
      "48000/48000 [==============================] - 228s 5ms/step - loss: 0.2430 - acc: 0.9086 - val_loss: 0.2238 - val_acc: 0.9187\n",
      "Epoch 10/20\n",
      "48000/48000 [==============================] - 214s 4ms/step - loss: 0.2327 - acc: 0.9137 - val_loss: 0.2381 - val_acc: 0.9149\n",
      "Epoch 11/20\n",
      "48000/48000 [==============================] - 207s 4ms/step - loss: 0.2294 - acc: 0.9139 - val_loss: 0.2213 - val_acc: 0.9168\n",
      "Epoch 12/20\n",
      "48000/48000 [==============================] - 218s 5ms/step - loss: 0.2219 - acc: 0.9156 - val_loss: 0.2167 - val_acc: 0.9202\n",
      "Epoch 13/20\n",
      "48000/48000 [==============================] - 220s 5ms/step - loss: 0.2185 - acc: 0.9173 - val_loss: 0.2144 - val_acc: 0.9213\n",
      "Epoch 14/20\n",
      "48000/48000 [==============================] - 207s 4ms/step - loss: 0.2167 - acc: 0.9185 - val_loss: 0.2135 - val_acc: 0.9248\n",
      "Epoch 15/20\n",
      "48000/48000 [==============================] - 206s 4ms/step - loss: 0.2130 - acc: 0.9191 - val_loss: 0.2098 - val_acc: 0.9245\n",
      "Epoch 16/20\n",
      "48000/48000 [==============================] - 207s 4ms/step - loss: 0.2088 - acc: 0.9210 - val_loss: 0.2161 - val_acc: 0.9217\n",
      "Epoch 17/20\n",
      "48000/48000 [==============================] - 206s 4ms/step - loss: 0.2067 - acc: 0.9219 - val_loss: 0.2111 - val_acc: 0.9253\n",
      "Epoch 18/20\n",
      "48000/48000 [==============================] - 202s 4ms/step - loss: 0.2008 - acc: 0.9227 - val_loss: 0.2141 - val_acc: 0.9258\n",
      "Epoch 19/20\n",
      "48000/48000 [==============================] - 198s 4ms/step - loss: 0.2011 - acc: 0.9237 - val_loss: 0.2065 - val_acc: 0.9263\n",
      "Epoch 20/20\n",
      "48000/48000 [==============================] - 210s 4ms/step - loss: 0.1970 - acc: 0.9254 - val_loss: 0.2051 - val_acc: 0.9262\n"
     ]
    }
   ],
   "source": [
    "fashion_model.compile(loss=keras.losses.categorical_crossentropy, optimizer=keras.optimizers.Adam(),metrics=['accuracy'])\n",
    "fashion_train_dropout = fashion_model.fit(train_X, train_label, batch_size=batch_size,epochs=epochs,verbose=1,validation_data=(valid_X, valid_label))\n"
   ]
  },
  {
   "cell_type": "code",
   "execution_count": 48,
   "metadata": {},
   "outputs": [
    {
     "name": "stdout",
     "output_type": "stream",
     "text": [
      "10000/10000 [==============================] - 14s 1ms/step\n",
      "Test loss: 0.2218779006898403\n",
      "Test accuracy: 0.9218\n"
     ]
    }
   ],
   "source": [
    "#\n",
    "# Save the model so we don't have to retrain it each time\n",
    "#\n",
    "fashion_model.save(\"fashion_model_dropout.h5py\")\n",
    "\n",
    "\"\"\"\n",
    "To reload the model use the following command\n",
    "myModel = keras.models.load_model(filepath)\n",
    "\"\"\"\n",
    "\n",
    "\"\"\"\n",
    "Model Evaluation on the Test Set\n",
    "Finally, let's also evaluate your new model and see how it performs!\n",
    "\"\"\"\n",
    "\n",
    "test_eval = fashion_model.evaluate(test_X, test_Y_one_hot, verbose=1)\n",
    "print('Test loss:', test_eval[0])\n",
    "print('Test accuracy:', test_eval[1])\n"
   ]
  },
  {
   "cell_type": "code",
   "execution_count": 49,
   "metadata": {},
   "outputs": [
    {
     "data": {
      "image/png": "[encoded data removed]",
      "text/plain": [
       "<matplotlib.figure.Figure at 0x1e6030307f0>"
      ]
     },
     "metadata": {},
     "output_type": "display_data"
    },
    {
     "data": {
      "image/png": "[encoded data removed]",
      "text/plain": [
       "<matplotlib.figure.Figure at 0x1e60304d0b8>"
      ]
     },
     "metadata": {},
     "output_type": "display_data"
    }
   ],
   "source": [
    "#\n",
    "# Now replot the accuracy after adding the dropout\n",
    "#\n",
    "accuracy = fashion_train_dropout.history['acc']\n",
    "val_accuracy = fashion_train_dropout.history['val_acc']\n",
    "loss = fashion_train_dropout.history['loss']\n",
    "val_loss = fashion_train_dropout.history['val_loss']\n",
    "epochs = range(len(accuracy))\n",
    "plt.plot(epochs, accuracy, 'bo', label='Training accuracy')\n",
    "plt.plot(epochs, val_accuracy, 'b', label='Validation accuracy')\n",
    "plt.title('Training and validation accuracy')\n",
    "plt.legend()\n",
    "plt.figure()\n",
    "plt.plot(epochs, loss, 'bo', label='Training loss')\n",
    "plt.plot(epochs, val_loss, 'b', label='Validation loss')\n",
    "plt.title('Training and validation loss')\n",
    "plt.legend()\n",
    "plt.show()\n"
   ]
  },
  {
   "cell_type": "code",
   "execution_count": 51,
   "metadata": {},
   "outputs": [
    {
     "data": {
      "text/plain": [
       "((10000,), (10000,))"
      ]
     },
     "execution_count": 51,
     "metadata": {},
     "output_type": "execute_result"
    }
   ],
   "source": [
    "\"\"\"\n",
    "Since the predictions you get are floating point values, it will not be feasible to compare the predicted labels with \n",
    "true test labels. So, you will round off the output which will convert the float values into an integer. \n",
    "Further, you will use np.argmax() to select the index number which has a higher value in a row.\n",
    "\n",
    "For example, let's assume a prediction for one test image to be 0 1 0 0 0 0 0 0 0 0, the output for this should be \n",
    "a class label 1.\n",
    "\"\"\"\n",
    "predicted_classes = fashion_model.predict(test_X)\n",
    "predicted_classes = np.argmax(np.round(predicted_classes),axis=1)\n",
    "predicted_classes.shape, test_Y.shape\n"
   ]
  },
  {
   "cell_type": "code",
   "execution_count": 52,
   "metadata": {},
   "outputs": [
    {
     "name": "stdout",
     "output_type": "stream",
     "text": [
      "Found 9176 correct labels\n"
     ]
    },
    {
     "data": {
      "image/png": "[encoded data removed]",
      "text/plain": [
       "<matplotlib.figure.Figure at 0x1e602e70ba8>"
      ]
     },
     "metadata": {},
     "output_type": "display_data"
    }
   ],
   "source": [
    "#\n",
    "# Show the correctly predicted labels\n",
    "#\n",
    "correct = np.where(predicted_classes==test_Y)[0]\n",
    "print(\"Found %d correct labels\" % len(correct))\n",
    "for i, correct in enumerate(correct[:9]):\n",
    "    plt.subplot(3,3,i+1)\n",
    "    plt.imshow(test_X[correct].reshape(28,28), cmap='gray', interpolation='none')\n",
    "    plt.title(\"Predicted {}, Class {}\".format(predicted_classes[correct], test_Y[correct]))\n",
    "    plt.tight_layout()\n",
    "    "
   ]
  },
  {
   "cell_type": "code",
   "execution_count": 53,
   "metadata": {},
   "outputs": [
    {
     "name": "stdout",
     "output_type": "stream",
     "text": [
      "Found 824 incorrect labels\n"
     ]
    },
    {
     "data": {
      "image/png": "[encoded data removed]",
      "text/plain": [
       "<matplotlib.figure.Figure at 0x1e602f62208>"
      ]
     },
     "metadata": {},
     "output_type": "display_data"
    }
   ],
   "source": [
    "#\n",
    "# Now show the incorrectly predicted labels\n",
    "#\n",
    "incorrect = np.where(predicted_classes!=test_Y)[0]\n",
    "print(\"Found %d incorrect labels\" % len(incorrect))\n",
    "for i, incorrect in enumerate(incorrect[:9]):\n",
    "    plt.subplot(3,3,i+1)\n",
    "    plt.imshow(test_X[incorrect].reshape(28,28), cmap='gray', interpolation='none')\n",
    "    plt.title(\"Predicted {}, Class {}\".format(predicted_classes[incorrect], test_Y[incorrect]))\n",
    "    plt.tight_layout()\n"
   ]
  },
  {
   "cell_type": "code",
   "execution_count": 54,
   "metadata": {},
   "outputs": [
    {
     "name": "stdout",
     "output_type": "stream",
     "text": [
      "             precision    recall  f1-score   support\n",
      "\n",
      "    Class 0       0.79      0.86      0.82      1000\n",
      "    Class 1       0.99      0.98      0.99      1000\n",
      "    Class 2       0.91      0.85      0.88      1000\n",
      "    Class 3       0.92      0.93      0.92      1000\n",
      "    Class 4       0.88      0.88      0.88      1000\n",
      "    Class 5       0.99      0.98      0.99      1000\n",
      "    Class 6       0.77      0.77      0.77      1000\n",
      "    Class 7       0.97      0.98      0.97      1000\n",
      "    Class 8       0.99      0.98      0.99      1000\n",
      "    Class 9       0.98      0.97      0.98      1000\n",
      "\n",
      "avg / total       0.92      0.92      0.92     10000\n",
      "\n"
     ]
    }
   ],
   "source": [
    "\"\"\"\n",
    "Classification report will help us in identifying the misclassified classes in more detail. You will be able to observe \n",
    "for which class the model performed bad out of the given ten classes.\n",
    "\"\"\"\n",
    "\n",
    "from sklearn.metrics import classification_report\n",
    "target_names = [\"Class {}\".format(i) for i in range(num_classes)]\n",
    "print(classification_report(test_Y, predicted_classes, target_names=target_names))\n"
   ]
  },
  {
   "cell_type": "code",
   "execution_count": 56,
   "metadata": {},
   "outputs": [],
   "source": [
    "\n"
   ]
  },
  {
   "cell_type": "code",
   "execution_count": null,
   "metadata": {},
   "outputs": [],
   "source": []
  },
  {
   "cell_type": "code",
   "execution_count": null,
   "metadata": {
    "collapsed": true
   },
   "outputs": [],
   "source": []
  }
 ],
 "metadata": {
  "kernelspec": {
   "display_name": "Python [default]",
   "language": "python",
   "name": "python3"
  },
  "language_info": {
   "codemirror_mode": {
    "name": "ipython",
    "version": 3
   },
   "file_extension": ".py",
   "mimetype": "text/x-python",
   "name": "python",
   "nbconvert_exporter": "python",
   "pygments_lexer": "ipython3",
   "version": "3.5.4"
  }
 },
 "nbformat": 4,
 "nbformat_minor": 2
}
